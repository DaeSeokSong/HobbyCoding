{
  "nbformat": 4,
  "nbformat_minor": 0,
  "metadata": {
    "colab": {
      "name": "JsonSaveToFireStore.ipynb",
      "private_outputs": true,
      "provenance": [],
      "collapsed_sections": [],
      "authorship_tag": "ABX9TyOyGcylnF6lAEakSC9gzoUQ",
      "include_colab_link": true
    },
    "kernelspec": {
      "name": "python3",
      "display_name": "Python 3"
    }
  },
  "cells": [
    {
      "cell_type": "markdown",
      "metadata": {
        "id": "view-in-github",
        "colab_type": "text"
      },
      "source": [
        "<a href=\"https://colab.research.google.com/github/DaeSeokSong/HobbyCoding/blob/main/JsonSaveToFireStore.ipynb\" target=\"_parent\"><img src=\"https://colab.research.google.com/assets/colab-badge.svg\" alt=\"Open In Colab\"/></a>"
      ]
    },
    {
      "cell_type": "code",
      "metadata": {
        "id": "71iCX0a85giR"
      },
      "source": [
        "# 코랩 → 구글 클라우드 연동\r\n",
        "# 기본 경로는 /cotent, 자신의 구글 클라우드 홈 경로는 /content/gdrive/My Drive/,\r\n",
        "from google.colab import drive\r\n",
        "\r\n",
        "drive.mount('/content/gdrive/')"
      ],
      "execution_count": null,
      "outputs": []
    },
    {
      "cell_type": "code",
      "metadata": {
        "id": "iQApcQCL5hh_"
      },
      "source": [
        "import firebase_admin\r\n",
        "from firebase_admin import credentials\r\n",
        "from firebase_admin import firestore\r\n",
        "\r\n",
        "import json\r\n",
        "\r\n",
        "# 프로그램 기본 인증 정보\r\n",
        "cred = credentials.Certificate('/content/gdrive/My Drive/NeedFor/StockOverlay/needfor-stockoverlay-firebase-adminsdk.json'); # 파이어베이스 프로젝트 설정(Settin) → 서비스 계정 → Python 선택 후 비공개 키 생성해서 나오는 json 파일 입력\r\n",
        "\r\n",
        "# 파이어베이스 DB 정보 가져오기\r\n",
        "# firebase_admin.initialize_app(cred), 처음 DB에 접근할 때 사용해야 하는 코드, 두번째 접근부터는 사용 안 해도 된다.\r\n",
        "db = firestore.client()\r\n",
        "\r\n",
        "with open('/content/gdrive/My Drive/NeedFor/StockOverlay/stockData.json', 'r') as target:\r\n",
        "    jsonData = json.load(target)\r\n",
        "\r\n",
        "# json이 List 형태로 넘어올 경우 Dictionary 형태로 변환\r\n",
        "if type(jsonData) == type([]) :\r\n",
        "    savedData = {} # 변환된 데이터 담을 변수\r\n",
        "    for dic in jsonData :\r\n",
        "        # 종목코드를 문자열로 변환 (6자리 모드 채워넣기 위해서, 앞에 빈 곳은 0으로)\r\n",
        "        int_stockCode = str(dic['code'])\r\n",
        "        int_detailCode = str(dic['detail_code'])\r\n",
        "\r\n",
        "        # 종목코드가 6자리 모두 채워지지 않은 경우 Ex. 004321 int형으로 4321 같이 저장되어 있으므로, 앞에 0을 채워넣는다.\r\n",
        "        if len(int_stockCode) < 6 :\r\n",
        "            stockCode = '0'\r\n",
        "            for i in range(1, 6-len(int_stockCode)) : stockCode = stockCode + '0'\r\n",
        "            stockCode = stockCode + int_stockCode\r\n",
        "            savedData['code'] = stockCode\r\n",
        "        # 그 외의 경우\r\n",
        "        else :\r\n",
        "            savedData['code'] = int_stockCode\r\n",
        "\r\n",
        "        # 업종코드가 6자리 모두 채워지지 않은 경우 Ex. 004321 int형으로 4321 같이 저장되어 있으므로, 앞에 0을 채워넣는다.\r\n",
        "        if len(int_detailCode) < 6 :\r\n",
        "            detailCode = '0'\r\n",
        "            for i in range(1, 6-len(int_detailCode)) : detailCode = detailCode + '0'\r\n",
        "            detailCode = detailCode + int_detailCode\r\n",
        "            savedData['detail_code'] = detailCode\r\n",
        "        # 그 외의 경우\r\n",
        "        else :\r\n",
        "            savedData['detail_code'] = int_detailCode\r\n",
        "\r\n",
        "        # 주식명(name)을 문서명으로 하여 Stock 컬렉션에 저장\r\n",
        "        docRef = db.collection(u'Stock').document(dic['name']) # collection(u'(FireStore의 컬렉션 이름)').document(u'(FireStore의 특정 컬렉션 안의 문서 이름)'), 뒤에 더 붙일 수도 있다(컬렉션-문서-컬렉션-문서 순서여야 한다.)\r\n",
        "        docRef.set(savedData) ; # dictionary 형태인 KEY : VALUE 형식으로 FireStore에 저장된다.\r\n",
        "else :\r\n",
        "    \"\"\"\r\n",
        "    docRef = db.collection(~).document(~) # collection(u'(FireStore의 컬렉션 이름)').document(u'(FireStore의 특정 컬렉션 안의 문서 이름)'), 뒤에 더 붙일 수도 있다(컬렉션-문서-컬렉션-문서 순서여야 한다.)\r\n",
        "    docRef.set(~) ; # dictionary 형태인 KEY : VALUE 형식으로 FireStore에 저장된다.\r\n",
        "    \"\"\""
      ],
      "execution_count": null,
      "outputs": []
    }
  ]
}